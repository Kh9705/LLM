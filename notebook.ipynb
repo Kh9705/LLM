{
 "cells": [
  {
   "cell_type": "code",
   "execution_count": 1,
   "metadata": {},
   "outputs": [
    {
     "name": "stdout",
     "output_type": "stream",
     "text": [
      "Hedll\n"
     ]
    }
   ],
   "source": [
    "print(\"Hedll\")"
   ]
  },
  {
   "cell_type": "code",
   "execution_count": 21,
   "metadata": {},
   "outputs": [
    {
     "name": "stdout",
     "output_type": "stream",
     "text": [
      "Response from the model: Here's one:\n",
      "\n",
      "What do you call a fake noodle?\n",
      "\n",
      "An impasta!\n",
      "\n",
      "(I hope that made you smile!)\n",
      "Total pages: 1\n",
      "Content of the first page:\n",
      "Khushhal Kumar Sinha\n",
      "Email: khushhalsinha0909@gmail.com\n",
      "LinkedIn: Khushhal Sinha\n",
      "Mobile: +91-7700813444\n",
      "GitHub: Kh9705 · GitHub\n",
      "Education\n",
      "•\n",
      "The Laxmi Niwas Mittal Institute of Information Technology (LNMIIT) Jaipur, India\n",
      "Bachelor of Technology - Communication and Computer Engineering; GPA: 7.9August 2023 - June 2027\n",
      "•\n",
      "Delhi Public School Ranchi\n",
      "Class 12 - 94%Class 10 - 96.2%\n",
      "Skills Summary\n",
      "• Languages: Python, PHP, C++, JavaScript, SQL, Bash, Java\n",
      "• Frameworks: Scikit,TensorFlow, Keras, Node.js\n",
      "• Tools: , Git, PostgreSQL, MySQL, SQLite\n",
      "• Platforms: Linux, Web, Windows, Arduino, Raspberry Pi\n",
      "• Soft Skills: Leadership, Event Management, Writing, Public Speaking, Time Management\n",
      "Projects\n",
      "• SafeWeb: An ML-Based Phishing Detection Solution: Leveraged machine learning techniques to\n",
      "analyze datasets and identify phishing websites, enhancing problem-solving skills and data analysis\n",
      "capabilities.\n",
      "• Survey form: Designed and developed a form-based website using HTML, CSS, and JavaScript,\n",
      "demonstrating proficiency in front-end web development.\n",
      "Honors and Awards\n",
      "• Participated in the ICPC Summer Camp for competitive programming.\n",
      "• Advanced to Round 2 of the Great AppSec Hackathon (Cybersecurity).\n",
      "• Qualified for the Aryabhatta Maths Olympiad.\n",
      "• Qualified for the IMO (International Math Olympiad)(SOF) 2nd Round.\n",
      "Extra-Curricular Activities\n",
      "• Core Member and PR Lead in the E-Summit 2024 at LNMIIT\n",
      "• Active member of the National Service Scheme (NSS)\n",
      "• Member of Phoenix Club (Robotics)\n",
      "• Member of Cipher Club (Cybersecurity)\n",
      "Question: What is Khushhal school nameWhat is the cgpa of Khushhal\n",
      "Answer: Based on the context, here are the answers to your questions:\n",
      "\n",
      "1. What is Khushhal's school name?\n",
      "\n",
      "Khushhal's school name is Delhi Public School Ranchi.\n",
      "\n",
      "2. What is the CGPA of Khushhal?\n",
      "\n",
      "The CGPA of Khushhal is 7.9.\n",
      "\n"
     ]
    }
   ],
   "source": [
    "import os\n",
    "from dotenv import load_dotenv\n",
    "from langchain_community.llms import Ollama\n",
    "from langchain_openai.chat_models import ChatOpenAI\n",
    "from langchain_community.embeddings import OllamaEmbeddings\n",
    "from langchain_openai.embeddings import OpenAIEmbeddings\n",
    "from langchain_community.document_loaders import PyPDFLoader\n",
    "from langchain_core.output_parsers import StrOutputParser\n",
    "from langchain.prompts import PromptTemplate\n",
    "from langchain_community.vectorstores import DocArrayInMemorySearch\n",
    "from operator import itemgetter\n",
    "\n",
    "# Load environment variables\n",
    "load_dotenv()\n",
    "OPENAI_API_KEY = os.getenv(\"OPENAI_API_KEY\")\n",
    "MODEL = \"llama3.2\"  # Change this based on your actual model\n",
    "\n",
    "# Initialize the model and embeddings\n",
    "if MODEL.startswith(\"gpt\"):\n",
    "    model = ChatOpenAI(openai_api_key=OPENAI_API_KEY, model=MODEL)\n",
    "    embeddings = OpenAIEmbeddings()\n",
    "elif MODEL == \"llama3.2\":\n",
    "    model = Ollama(model=\"llama3.2\")\n",
    "    embeddings = OllamaEmbeddings(model=\"llama3.2\")\n",
    "else:\n",
    "    raise ValueError(\"Unsupported model!\")\n",
    "\n",
    "# Test the model with a simple query\n",
    "response = model.invoke(\"Tell me a joke\")\n",
    "print(f\"Response from the model: {response}\")\n",
    "\n",
    "# Load and split a PDF into pages\n",
    "pdf_path = r\"C:\\Users\\KHUSHAAL KUMAR SINHA\\Downloads\\Khushhal_cv.pdf\"\n",
    "\n",
    "loader = PyPDFLoader(pdf_path)\n",
    "pages = loader.load_and_split()\n",
    "\n",
    "# Output the number of pages and preview the first page\n",
    "print(f\"Total pages: {len(pages)}\")\n",
    "if pages:\n",
    "    print(f\"Content of the first page:\\n{pages[0].page_content}\")\n",
    "\n",
    "# Initialize a parser\n",
    "parser = StrOutputParser()\n",
    "\n",
    "# Define a prompt template\n",
    "template = \"\"\"\n",
    "Answer the question based on the context below. If you can't \n",
    "answer the question, reply \"I don't know\".\n",
    "\n",
    "Context: {context}\n",
    "\n",
    "Question: {question}\n",
    "\"\"\"\n",
    "prompt = PromptTemplate.from_template(template)\n",
    "\n",
    "# Create a vector store and retriever\n",
    "vectorstore = DocArrayInMemorySearch.from_documents(pages, embedding=embeddings)\n",
    "retriever = vectorstore.as_retriever()\n",
    "\n",
    "# Define a chain with the retriever, prompt, and model\n",
    "chain = (\n",
    "    {\n",
    "        \"context\": itemgetter(\"question\") | retriever,\n",
    "        \"question\": itemgetter(\"question\"),\n",
    "    }\n",
    "    | prompt\n",
    "    | model\n",
    "    | parser\n",
    ")\n",
    "\n",
    "# Define a list of questions\n",
    "questions = [\n",
    "    \"What is Khushhal school name\"\n",
    "    \"What is the cgpa of Khushhal\"\n",
    "]\n",
    "\n",
    "# Process each question using the chain\n",
    "for question in questions:\n",
    "    print(f\"Question: {question}\")\n",
    "    print(f\"Answer: {chain.invoke({'question': question})}\")\n",
    "    print()\n"
   ]
  },
  {
   "cell_type": "code",
   "execution_count": 3,
   "metadata": {},
   "outputs": [
    {
     "name": "stdout",
     "output_type": "stream",
     "text": [
      "dotenv is working!\n"
     ]
    }
   ],
   "source": [
    "from dotenv import load_dotenv\n",
    "print(\"dotenv is working!\")\n"
   ]
  }
 ],
 "metadata": {
  "kernelspec": {
   "display_name": "venv",
   "language": "python",
   "name": "python3"
  },
  "language_info": {
   "codemirror_mode": {
    "name": "ipython",
    "version": 3
   },
   "file_extension": ".py",
   "mimetype": "text/x-python",
   "name": "python",
   "nbconvert_exporter": "python",
   "pygments_lexer": "ipython3",
   "version": "3.11.9"
  }
 },
 "nbformat": 4,
 "nbformat_minor": 2
}
